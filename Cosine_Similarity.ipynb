{
 "cells": [
  {
   "cell_type": "markdown",
   "id": "14a44fcb",
   "metadata": {},
   "source": [
    "<h1 style = \"color:black; background-color:yellow; font-family:Comic Sans Ms;\" align = \"center\"> Cosine Similairty </h1>"
   ]
  },
  {
   "cell_type": "code",
   "execution_count": 1,
   "id": "22b8094a",
   "metadata": {},
   "outputs": [],
   "source": [
    "import numpy as np"
   ]
  },
  {
   "cell_type": "code",
   "execution_count": 3,
   "id": "fccf87c0",
   "metadata": {},
   "outputs": [],
   "source": [
    "def cosine_similarity(x, y):\n",
    "    \n",
    "    # Ensure length of x and y are the same\n",
    "    if len(x) != len(y) :\n",
    "        return None\n",
    "    \n",
    "    # Compute the dot product between x and y\n",
    "    dot_product = np.dot(x, y)\n",
    "    \n",
    "    # Compute the L2 norms (magnitudes) of x and y\n",
    "    magnitude_x = np.sqrt(np.sum(x**2)) \n",
    "    magnitude_y = np.sqrt(np.sum(y**2))\n",
    "    \n",
    "    # Compute the cosine similarity\n",
    "    cosine_similarity = dot_product / (magnitude_x * magnitude_y)\n",
    "    \n",
    "    return cosine_similarity"
   ]
  },
  {
   "cell_type": "code",
   "execution_count": 4,
   "id": "f8bb594a",
   "metadata": {},
   "outputs": [],
   "source": [
    "corpus = [  'data science is one of the most important fields of science',\n",
    "            'this is one of the best data science courses',\n",
    "            'data scientists analyze data'   ]"
   ]
  },
  {
   "cell_type": "code",
   "execution_count": 5,
   "id": "f08c058c",
   "metadata": {},
   "outputs": [
    {
     "name": "stdout",
     "output_type": "stream",
     "text": [
      "[[0 0 0 1 1 1 1 1 2 1 2 0 1 0]\n",
      " [0 1 1 1 0 0 1 0 1 1 1 0 1 1]\n",
      " [1 0 0 2 0 0 0 0 0 0 0 1 0 0]]\n"
     ]
    }
   ],
   "source": [
    "from sklearn.feature_extraction.text import CountVectorizer\n",
    "\n",
    "# Create a matrix to represent the corpus\n",
    "X = CountVectorizer().fit_transform(corpus).toarray()\n",
    "\n",
    "print(X)"
   ]
  },
  {
   "cell_type": "code",
   "execution_count": 6,
   "id": "d617d50c",
   "metadata": {},
   "outputs": [
    {
     "name": "stdout",
     "output_type": "stream",
     "text": [
      "Cosine Similarity between: \n",
      "\tDocument 1 and Document 2:  0.6885303726590962\n",
      "\tDocument 1 and Document 3:  0.21081851067789195\n",
      "\tDocument 2 and Document 3:  0.2721655269759087\n"
     ]
    }
   ],
   "source": [
    "cos_sim_1_2 = cosine_similarity(X[0, :], X[1, :])\n",
    "cos_sim_1_3 = cosine_similarity(X[0, :], X[2, :])\n",
    "cos_sim_2_3 = cosine_similarity(X[1, :], X[2, :])\n",
    "\n",
    "print('Cosine Similarity between: ')\n",
    "print('\\tDocument 1 and Document 2: ', cos_sim_1_2)\n",
    "print('\\tDocument 1 and Document 3: ', cos_sim_1_3)\n",
    "print('\\tDocument 2 and Document 3: ', cos_sim_2_3)"
   ]
  },
  {
   "cell_type": "markdown",
   "id": "d41d23f1",
   "metadata": {},
   "source": [
    "<h3 style = \"color:black; background-color:yellow; font-family:Comic Sans Ms;\" align = \"center\">   Alternatively, Cosine similarity can be calculated using functions defined in popular Python libraries.\n",
    "</h3>"
   ]
  },
  {
   "cell_type": "code",
   "execution_count": 7,
   "id": "4b2a0c48",
   "metadata": {},
   "outputs": [],
   "source": [
    "from sklearn.metrics.pairwise import cosine_similarity"
   ]
  },
  {
   "cell_type": "code",
   "execution_count": 8,
   "id": "6cdf9166",
   "metadata": {},
   "outputs": [
    {
     "name": "stdout",
     "output_type": "stream",
     "text": [
      "Cosine Similarity between Document 1 and Document 2 is \n",
      " [[1.         0.68853037]\n",
      " [0.68853037 1.        ]]\n"
     ]
    }
   ],
   "source": [
    "cos_sim_1_2 = cosine_similarity([X[0, :], X[1, :]])\n",
    "\n",
    "print('Cosine Similarity between Document 1 and Document 2 is \\n',cos_sim_1_2 )"
   ]
  },
  {
   "cell_type": "markdown",
   "id": "9bf8fcbf",
   "metadata": {},
   "source": [
    "<h3 style = \"color:black; background-color:yellow; font-family:Comic Sans Ms;\" align = \"center\"> The results are same with the defined function. Notice that the input to sklearn's function is a matrix, and the output is also a matrix.</h3>"
   ]
  },
  {
   "cell_type": "code",
   "execution_count": 9,
   "id": "5abb447a",
   "metadata": {},
   "outputs": [],
   "source": [
    "from numpy import dot\n",
    "from numpy.linalg import norm"
   ]
  },
  {
   "cell_type": "code",
   "execution_count": 10,
   "id": "b8788126",
   "metadata": {},
   "outputs": [],
   "source": [
    "a = [1,2,3]\n",
    "b = [3,5,7]"
   ]
  },
  {
   "cell_type": "code",
   "execution_count": 11,
   "id": "ef190227",
   "metadata": {},
   "outputs": [],
   "source": [
    "cos_sim = dot(a,b) /(norm(a) * norm(b))"
   ]
  },
  {
   "cell_type": "code",
   "execution_count": 12,
   "id": "4de1b6b0",
   "metadata": {},
   "outputs": [
    {
     "data": {
      "text/plain": [
       "0.9974149030430577"
      ]
     },
     "execution_count": 12,
     "metadata": {},
     "output_type": "execute_result"
    }
   ],
   "source": [
    "cos_sim"
   ]
  },
  {
   "cell_type": "code",
   "execution_count": 14,
   "id": "63fec545",
   "metadata": {},
   "outputs": [],
   "source": [
    "a = [0, 0, 0, 1, 1, 1, 1, 1, 2, 1, 2, 0, 1, 0]\n",
    "b = [0, 1, 1, 1, 0, 0 ,1, 0, 1, 1, 1, 0, 1 ,1]"
   ]
  },
  {
   "cell_type": "code",
   "execution_count": 15,
   "id": "1f295287",
   "metadata": {},
   "outputs": [],
   "source": [
    "cos_sim = dot(a,b) /(norm(a) * norm(b))"
   ]
  },
  {
   "cell_type": "code",
   "execution_count": 16,
   "id": "7b82625b",
   "metadata": {},
   "outputs": [
    {
     "data": {
      "text/plain": [
       "0.6885303726590962"
      ]
     },
     "execution_count": 16,
     "metadata": {},
     "output_type": "execute_result"
    }
   ],
   "source": [
    "cos_sim"
   ]
  },
  {
   "cell_type": "code",
   "execution_count": 17,
   "id": "15032594",
   "metadata": {},
   "outputs": [],
   "source": [
    "#from sklearn.metrics.pairwise import cosine_similarity"
   ]
  },
  {
   "cell_type": "code",
   "execution_count": 18,
   "id": "20cef7eb",
   "metadata": {},
   "outputs": [],
   "source": [
    "a = [1,2,3]\n",
    "b = [3,5,7]"
   ]
  },
  {
   "cell_type": "code",
   "execution_count": 19,
   "id": "76f02854",
   "metadata": {},
   "outputs": [
    {
     "data": {
      "text/plain": [
       "array([[0.9974149]])"
      ]
     },
     "execution_count": 19,
     "metadata": {},
     "output_type": "execute_result"
    }
   ],
   "source": [
    "cosine_similarity([a], [b])"
   ]
  }
 ],
 "metadata": {
  "kernelspec": {
   "display_name": "Python 3",
   "language": "python",
   "name": "python3"
  },
  "language_info": {
   "codemirror_mode": {
    "name": "ipython",
    "version": 3
   },
   "file_extension": ".py",
   "mimetype": "text/x-python",
   "name": "python",
   "nbconvert_exporter": "python",
   "pygments_lexer": "ipython3",
   "version": "3.8.8"
  }
 },
 "nbformat": 4,
 "nbformat_minor": 5
}
